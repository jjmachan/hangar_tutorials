{
 "cells": [
  {
   "cell_type": "code",
   "execution_count": 49,
   "metadata": {},
   "outputs": [],
   "source": [
    "import hangar\n",
    "from hangar import Repository\n",
    "from hangar import make_torch_dataset\n",
    "\n",
    "import torch\n",
    "from torch import nn\n",
    "import torch.nn.functional as F\n",
    "from torch.utils.data import DataLoader\n",
    "from torch import optim"
   ]
  },
  {
   "cell_type": "code",
   "execution_count": 5,
   "metadata": {},
   "outputs": [
    {
     "data": {
      "text/plain": [
       "'0.5.1'"
      ]
     },
     "execution_count": 5,
     "metadata": {},
     "output_type": "execute_result"
    }
   ],
   "source": [
    "hangar.__version__"
   ]
  },
  {
   "cell_type": "code",
   "execution_count": 7,
   "metadata": {},
   "outputs": [],
   "source": [
    "repo = Repository('./')"
   ]
  },
  {
   "cell_type": "code",
   "execution_count": 8,
   "metadata": {},
   "outputs": [
    {
     "name": "stdout",
     "output_type": "stream",
     "text": [
      "Summary of Contents Contained in Data Repository \n",
      " \n",
      "================== \n",
      "| Repository Info \n",
      "|----------------- \n",
      "|  Base Directory: /home/jjmachan/jjmachan/hangar_tutorial \n",
      "|  Disk Usage: 105.88 MB \n",
      " \n",
      "=================== \n",
      "| Commit Details \n",
      "------------------- \n",
      "|  Commit: a=cdef6d59df587623e4767d9fac20b7670f97358d \n",
      "|  Created: Fri May  1 10:52:38 2020 \n",
      "|  By: jjmachan \n",
      "|  Email: jjmachan@g.com \n",
      "|  Message: added all the mnist datasets \n",
      " \n",
      "================== \n",
      "| DataSets \n",
      "|----------------- \n",
      "|  Number of Named Columns: 6 \n",
      "|\n",
      "|  * Column Name: ColumnSchemaKey(column=\"mnist_test_images\", layout=\"flat\") \n",
      "|    Num Data Pieces: 10000 \n",
      "|    Details: \n",
      "|    - column_layout: flat \n",
      "|    - column_type: ndarray \n",
      "|    - schema_hasher_tcode: 1 \n",
      "|    - data_hasher_tcode: 0 \n",
      "|    - schema_type: fixed_shape \n",
      "|    - shape: (784,) \n",
      "|    - dtype: float32 \n",
      "|    - backend: 00 \n",
      "|    - backend_options: {'complib': 'blosc:lz4hc', 'complevel': 5, 'shuffle': 'byte'} \n",
      "|\n",
      "|  * Column Name: ColumnSchemaKey(column=\"mnist_test_labels\", layout=\"flat\") \n",
      "|    Num Data Pieces: 10000 \n",
      "|    Details: \n",
      "|    - column_layout: flat \n",
      "|    - column_type: ndarray \n",
      "|    - schema_hasher_tcode: 1 \n",
      "|    - data_hasher_tcode: 0 \n",
      "|    - schema_type: fixed_shape \n",
      "|    - shape: (1,) \n",
      "|    - dtype: int64 \n",
      "|    - backend: 10 \n",
      "|    - backend_options: {} \n",
      "|\n",
      "|  * Column Name: ColumnSchemaKey(column=\"mnist_training_images\", layout=\"flat\") \n",
      "|    Num Data Pieces: 50000 \n",
      "|    Details: \n",
      "|    - column_layout: flat \n",
      "|    - column_type: ndarray \n",
      "|    - schema_hasher_tcode: 1 \n",
      "|    - data_hasher_tcode: 0 \n",
      "|    - schema_type: fixed_shape \n",
      "|    - shape: (784,) \n",
      "|    - dtype: float32 \n",
      "|    - backend: 00 \n",
      "|    - backend_options: {'complib': 'blosc:lz4hc', 'complevel': 5, 'shuffle': 'byte'} \n",
      "|\n",
      "|  * Column Name: ColumnSchemaKey(column=\"mnist_training_labels\", layout=\"flat\") \n",
      "|    Num Data Pieces: 50000 \n",
      "|    Details: \n",
      "|    - column_layout: flat \n",
      "|    - column_type: ndarray \n",
      "|    - schema_hasher_tcode: 1 \n",
      "|    - data_hasher_tcode: 0 \n",
      "|    - schema_type: fixed_shape \n",
      "|    - shape: (1,) \n",
      "|    - dtype: int64 \n",
      "|    - backend: 10 \n",
      "|    - backend_options: {} \n",
      "|\n",
      "|  * Column Name: ColumnSchemaKey(column=\"mnist_validation_images\", layout=\"flat\") \n",
      "|    Num Data Pieces: 10000 \n",
      "|    Details: \n",
      "|    - column_layout: flat \n",
      "|    - column_type: ndarray \n",
      "|    - schema_hasher_tcode: 1 \n",
      "|    - data_hasher_tcode: 0 \n",
      "|    - schema_type: fixed_shape \n",
      "|    - shape: (784,) \n",
      "|    - dtype: float32 \n",
      "|    - backend: 00 \n",
      "|    - backend_options: {'complib': 'blosc:lz4hc', 'complevel': 5, 'shuffle': 'byte'} \n",
      "|\n",
      "|  * Column Name: ColumnSchemaKey(column=\"mnist_validation_labels\", layout=\"flat\") \n",
      "|    Num Data Pieces: 10000 \n",
      "|    Details: \n",
      "|    - column_layout: flat \n",
      "|    - column_type: ndarray \n",
      "|    - schema_hasher_tcode: 1 \n",
      "|    - data_hasher_tcode: 0 \n",
      "|    - schema_type: fixed_shape \n",
      "|    - shape: (1,) \n",
      "|    - dtype: int64 \n",
      "|    - backend: 10 \n",
      "|    - backend_options: {} \n",
      "\n"
     ]
    }
   ],
   "source": [
    "repo.summary()"
   ]
  },
  {
   "cell_type": "code",
   "execution_count": 28,
   "metadata": {},
   "outputs": [
    {
     "name": "stdout",
     "output_type": "stream",
     "text": [
      "\n",
      " Neither BRANCH or COMMIT specified.\n",
      " * Checking out writing HEAD BRANCH: master\n"
     ]
    }
   ],
   "source": [
    "co = repo.checkout()\n",
    "co\n",
    "\n",
    "sample_img = co['mnist_test_images'][0]\n",
    "sample_label = co['mnist_test_labels'][0]"
   ]
  },
  {
   "cell_type": "markdown",
   "metadata": {},
   "source": [
    "## Create Dataloaders"
   ]
  },
  {
   "cell_type": "markdown",
   "metadata": {},
   "source": [
    "Hangar provides two Dataloaders to import the data stored in the Hangar repositories directly for training in Tensorflow (*make_tf_dataset*) or PyTorch(*make_torch_dataset*). Both these take a list of columns and return a dataset with each index values in the columns."
   ]
  },
  {
   "cell_type": "code",
   "execution_count": 48,
   "metadata": {},
   "outputs": [],
   "source": [
    "# Create the train, test and val datasets using\n",
    "# th make_torch dataset in hangar. This takes the \n",
    "# columns and creates a torch dataset out of it.\n",
    "\n",
    "train_dataset = make_torch_dataset((co['mnist_training_images'], co['mnist_training_labels']))\n",
    "test_dataset = make_torch_dataset((co['mnist_test_images'], co['mnist_test_labels']))\n",
    "val_dataset = make_torch_dataset((co['mnist_validation_images'], co['mnist_validation_labels']))"
   ]
  },
  {
   "cell_type": "code",
   "execution_count": 50,
   "metadata": {},
   "outputs": [],
   "source": [
    "batch_size = 32\n",
    "train_loader = DataLoader(train_dataset, batch_size=batch_size)\n",
    "test_loader = DataLoader(test_dataset, batch_size=batch_size)\n",
    "val_loader = DataLoader(val_dataset, batch_size=batch_size)"
   ]
  },
  {
   "cell_type": "markdown",
   "metadata": {},
   "source": [
    "## The model"
   ]
  },
  {
   "cell_type": "code",
   "execution_count": 78,
   "metadata": {},
   "outputs": [],
   "source": [
    "class net(nn.Module):\n",
    "    def __init__(self, inShape, outShape):\n",
    "        super().__init__()\n",
    "        self.fc1 = nn.Linear(inShape, 500)\n",
    "        self.fc2 = nn.Linear(500, 200)\n",
    "        self.fc3 = nn.Linear(200, outShape)\n",
    "    \n",
    "    def forward(self, input):\n",
    "        out = F.relu(self.fc1(input))\n",
    "        out = F.relu(self.fc2(out))\n",
    "        out = self.fc3(out)\n",
    "        \n",
    "        return out\n",
    "\n",
    "model = net(784, 10)"
   ]
  },
  {
   "cell_type": "code",
   "execution_count": 36,
   "metadata": {},
   "outputs": [
    {
     "name": "stderr",
     "output_type": "stream",
     "text": [
      "/home/jjmachan/miniconda3/envs/hangar-dev/lib/python3.7/site-packages/ipykernel_launcher.py:1: UserWarning: To copy construct from a tensor, it is recommended to use sourceTensor.clone().detach() or sourceTensor.clone().detach().requires_grad_(True), rather than torch.tensor(sourceTensor).\n",
      "  \"\"\"Entry point for launching an IPython kernel.\n"
     ]
    }
   ],
   "source": [
    "sample_img = torch.tensor(sample_img)\n",
    "sample_label = torch.tensor(sample_label)"
   ]
  },
  {
   "cell_type": "code",
   "execution_count": 37,
   "metadata": {},
   "outputs": [
    {
     "data": {
      "text/plain": [
       "(tensor([ 0.0046,  0.0118, -0.0002, -0.0126, -0.0314, -0.0218,  0.1049,  0.0653,\n",
       "         -0.0027, -0.0422], grad_fn=<AddBackward0>), tensor([7]))"
      ]
     },
     "execution_count": 37,
     "metadata": {},
     "output_type": "execute_result"
    }
   ],
   "source": [
    "model(sample_img),sample_label"
   ]
  },
  {
   "cell_type": "code",
   "execution_count": 38,
   "metadata": {},
   "outputs": [
    {
     "data": {
      "text/plain": [
       "tensor(2.2458, grad_fn=<NllLossBackward>)"
      ]
     },
     "execution_count": 38,
     "metadata": {},
     "output_type": "execute_result"
    }
   ],
   "source": [
    "criterion = nn.CrossEntropyLoss()\n",
    "output = model(sample_img).unsqueeze(0)\n",
    "criterion(output, sample_label)"
   ]
  },
  {
   "cell_type": "code",
   "execution_count": 35,
   "metadata": {},
   "outputs": [
    {
     "data": {
      "text/plain": [
       "torch.Size([1, 10])"
      ]
     },
     "execution_count": 35,
     "metadata": {},
     "output_type": "execute_result"
    }
   ],
   "source": [
    "output.shape"
   ]
  },
  {
   "cell_type": "code",
   "execution_count": 41,
   "metadata": {},
   "outputs": [
    {
     "name": "stderr",
     "output_type": "stream",
     "text": [
      "/home/jjmachan/jjmachan/hangar-py/src/hangar/dataloaders/torchloader.py:67: UserWarning: Dataloaders are experimental in the current release.\n",
      "  warnings.warn(\"Dataloaders are experimental in the current release.\", UserWarning)\n"
     ]
    }
   ],
   "source": [
    "dataset = make_torch_dataset((co['mnist_test_images'], co['mnist_test_labels']))"
   ]
  },
  {
   "cell_type": "code",
   "execution_count": 42,
   "metadata": {},
   "outputs": [
    {
     "data": {
      "text/plain": [
       "BatchTuple_mnist_test_images_mnist_test_labels(mnist_test_images=array([0.        , 0.        , 0.        , 0.        , 0.        ,\n",
       "       0.        , 0.        , 0.        , 0.        , 0.        ,\n",
       "       0.        , 0.        , 0.        , 0.        , 0.        ,\n",
       "       0.        , 0.        , 0.        , 0.        , 0.        ,\n",
       "       0.        , 0.        , 0.        , 0.        , 0.        ,\n",
       "       0.        , 0.        , 0.        , 0.        , 0.        ,\n",
       "       0.        , 0.        , 0.        , 0.        , 0.        ,\n",
       "       0.        , 0.        , 0.        , 0.        , 0.        ,\n",
       "       0.        , 0.        , 0.        , 0.        , 0.        ,\n",
       "       0.        , 0.        , 0.        , 0.        , 0.        ,\n",
       "       0.        , 0.        , 0.        , 0.        , 0.        ,\n",
       "       0.        , 0.        , 0.        , 0.        , 0.        ,\n",
       "       0.        , 0.        , 0.        , 0.        , 0.        ,\n",
       "       0.        , 0.        , 0.        , 0.        , 0.        ,\n",
       "       0.        , 0.        , 0.        , 0.        , 0.        ,\n",
       "       0.        , 0.        , 0.        , 0.        , 0.        ,\n",
       "       0.        , 0.        , 0.        , 0.        , 0.        ,\n",
       "       0.        , 0.        , 0.        , 0.        , 0.        ,\n",
       "       0.        , 0.        , 0.        , 0.        , 0.        ,\n",
       "       0.        , 0.        , 0.        , 0.        , 0.        ,\n",
       "       0.        , 0.        , 0.        , 0.        , 0.        ,\n",
       "       0.        , 0.        , 0.        , 0.        , 0.        ,\n",
       "       0.        , 0.        , 0.        , 0.        , 0.        ,\n",
       "       0.        , 0.        , 0.        , 0.        , 0.        ,\n",
       "       0.        , 0.        , 0.        , 0.        , 0.        ,\n",
       "       0.        , 0.        , 0.        , 0.        , 0.        ,\n",
       "       0.        , 0.        , 0.        , 0.        , 0.        ,\n",
       "       0.        , 0.        , 0.        , 0.        , 0.        ,\n",
       "       0.        , 0.        , 0.        , 0.        , 0.        ,\n",
       "       0.        , 0.        , 0.        , 0.        , 0.        ,\n",
       "       0.        , 0.        , 0.        , 0.        , 0.        ,\n",
       "       0.        , 0.        , 0.        , 0.        , 0.        ,\n",
       "       0.        , 0.        , 0.        , 0.        , 0.        ,\n",
       "       0.        , 0.        , 0.        , 0.        , 0.        ,\n",
       "       0.        , 0.        , 0.        , 0.        , 0.        ,\n",
       "       0.        , 0.        , 0.        , 0.        , 0.        ,\n",
       "       0.        , 0.        , 0.        , 0.        , 0.        ,\n",
       "       0.        , 0.        , 0.        , 0.        , 0.        ,\n",
       "       0.        , 0.        , 0.        , 0.        , 0.        ,\n",
       "       0.        , 0.        , 0.        , 0.        , 0.        ,\n",
       "       0.        , 0.        , 0.        , 0.        , 0.        ,\n",
       "       0.        , 0.        , 0.        , 0.        , 0.140625  ,\n",
       "       0.21875   , 0.53515625, 0.78515625, 0.77734375, 0.37109375,\n",
       "       0.14453125, 0.        , 0.        , 0.        , 0.        ,\n",
       "       0.        , 0.        , 0.        , 0.        , 0.        ,\n",
       "       0.        , 0.        , 0.        , 0.        , 0.        ,\n",
       "       0.        , 0.        , 0.        , 0.        , 0.        ,\n",
       "       0.17578125, 0.59375   , 0.9140625 , 0.9921875 , 0.9921875 ,\n",
       "       0.9921875 , 0.9921875 , 0.9921875 , 0.9765625 , 0.82421875,\n",
       "       0.58984375, 0.0234375 , 0.        , 0.        , 0.        ,\n",
       "       0.        , 0.        , 0.        , 0.        , 0.        ,\n",
       "       0.        , 0.        , 0.        , 0.        , 0.        ,\n",
       "       0.        , 0.1796875 , 0.59765625, 0.9375    , 0.9921875 ,\n",
       "       0.9921875 , 0.88671875, 0.6484375 , 0.51953125, 0.98046875,\n",
       "       0.78125   , 0.9921875 , 0.89453125, 0.87890625, 0.40625   ,\n",
       "       0.        , 0.        , 0.        , 0.        , 0.        ,\n",
       "       0.        , 0.        , 0.        , 0.        , 0.        ,\n",
       "       0.        , 0.        , 0.        , 0.59765625, 0.9140625 ,\n",
       "       0.9921875 , 0.9921875 , 0.73046875, 0.5546875 , 0.03125   ,\n",
       "       0.        , 0.        , 0.74609375, 0.15625   , 0.7734375 ,\n",
       "       0.9609375 , 0.87109375, 0.98828125, 0.08203125, 0.        ,\n",
       "       0.        , 0.        , 0.        , 0.        , 0.        ,\n",
       "       0.        , 0.        , 0.        , 0.        , 0.03125   ,\n",
       "       0.4921875 , 0.98828125, 0.9921875 , 0.91015625, 0.5       ,\n",
       "       0.04296875, 0.        , 0.        , 0.        , 0.        ,\n",
       "       0.8203125 , 0.16796875, 0.2734375 , 0.9921875 , 0.9921875 ,\n",
       "       0.9921875 , 0.08203125, 0.        , 0.        , 0.        ,\n",
       "       0.        , 0.        , 0.        , 0.        , 0.        ,\n",
       "       0.        , 0.        , 0.28125   , 0.94921875, 0.9921875 ,\n",
       "       0.890625  , 0.2109375 , 0.        , 0.        , 0.        ,\n",
       "       0.        , 0.01171875, 0.125     , 0.453125  , 0.87890625,\n",
       "       0.9453125 , 0.9921875 , 0.99609375, 0.6328125 , 0.01953125,\n",
       "       0.        , 0.        , 0.        , 0.        , 0.        ,\n",
       "       0.        , 0.        , 0.        , 0.        , 0.        ,\n",
       "       0.29296875, 0.9375    , 0.9921875 , 0.87109375, 0.42578125,\n",
       "       0.5390625 , 0.6953125 , 0.6953125 , 0.66015625, 0.8203125 ,\n",
       "       0.98046875, 0.90234375, 0.9921875 , 0.9921875 , 0.9921875 ,\n",
       "       0.90625   , 0.1484375 , 0.        , 0.        , 0.        ,\n",
       "       0.        , 0.        , 0.        , 0.        , 0.        ,\n",
       "       0.        , 0.        , 0.        , 0.03515625, 0.68359375,\n",
       "       0.953125  , 0.98828125, 0.99609375, 0.9921875 , 0.9921875 ,\n",
       "       0.98046875, 0.9921875 , 0.9921875 , 0.9921875 , 0.9921875 ,\n",
       "       0.9921875 , 0.984375  , 0.66796875, 0.09765625, 0.        ,\n",
       "       0.        , 0.        , 0.        , 0.        , 0.        ,\n",
       "       0.        , 0.        , 0.        , 0.        , 0.        ,\n",
       "       0.        , 0.        , 0.        , 0.0625    , 0.53125   ,\n",
       "       0.76171875, 0.6875    , 0.5703125 , 0.59765625, 0.78125   ,\n",
       "       0.9921875 , 0.9921875 , 0.9921875 , 0.9921875 , 0.5859375 ,\n",
       "       0.0625    , 0.        , 0.        , 0.        , 0.        ,\n",
       "       0.        , 0.        , 0.        , 0.        , 0.        ,\n",
       "       0.        , 0.        , 0.        , 0.        , 0.        ,\n",
       "       0.        , 0.        , 0.        , 0.        , 0.        ,\n",
       "       0.        , 0.        , 0.6328125 , 0.9921875 , 0.9921875 ,\n",
       "       0.94140625, 0.38671875, 0.01171875, 0.        , 0.        ,\n",
       "       0.        , 0.        , 0.        , 0.        , 0.        ,\n",
       "       0.        , 0.        , 0.        , 0.        , 0.        ,\n",
       "       0.        , 0.        , 0.        , 0.        , 0.        ,\n",
       "       0.        , 0.        , 0.        , 0.        , 0.4609375 ,\n",
       "       0.9765625 , 0.9921875 , 0.9921875 , 0.3515625 , 0.        ,\n",
       "       0.        , 0.        , 0.        , 0.        , 0.        ,\n",
       "       0.        , 0.        , 0.        , 0.        , 0.        ,\n",
       "       0.        , 0.        , 0.        , 0.        , 0.        ,\n",
       "       0.        , 0.        , 0.        , 0.        , 0.        ,\n",
       "       0.        , 0.390625  , 0.9453125 , 0.9921875 , 0.9921875 ,\n",
       "       0.82421875, 0.02734375, 0.        , 0.        , 0.        ,\n",
       "       0.        , 0.        , 0.        , 0.        , 0.        ,\n",
       "       0.        , 0.        , 0.        , 0.        , 0.        ,\n",
       "       0.        , 0.        , 0.        , 0.        , 0.        ,\n",
       "       0.        , 0.        , 0.        , 0.2109375 , 0.94140625,\n",
       "       0.9921875 , 0.9921875 , 0.9453125 , 0.23046875, 0.        ,\n",
       "       0.        , 0.        , 0.        , 0.        , 0.        ,\n",
       "       0.        , 0.        , 0.        , 0.        , 0.        ,\n",
       "       0.        , 0.        , 0.        , 0.        , 0.        ,\n",
       "       0.        , 0.        , 0.        , 0.        , 0.        ,\n",
       "       0.        , 0.51171875, 0.9921875 , 0.9921875 , 0.953125  ,\n",
       "       0.25      , 0.        , 0.        , 0.        , 0.        ,\n",
       "       0.        , 0.        , 0.        , 0.        , 0.        ,\n",
       "       0.        , 0.        , 0.        , 0.        , 0.        ,\n",
       "       0.        , 0.        , 0.        , 0.        , 0.        ,\n",
       "       0.        , 0.        , 0.        , 0.05078125, 0.97265625,\n",
       "       0.9921875 , 0.9921875 , 0.59375   , 0.        , 0.        ,\n",
       "       0.        , 0.        , 0.        , 0.        , 0.        ,\n",
       "       0.        , 0.        , 0.        , 0.        , 0.        ,\n",
       "       0.        , 0.        , 0.        , 0.        , 0.        ,\n",
       "       0.        , 0.        , 0.        , 0.        , 0.        ,\n",
       "       0.046875  , 0.890625  , 0.9921875 , 0.9921875 , 0.8125    ,\n",
       "       0.03125   , 0.        , 0.        , 0.        , 0.        ,\n",
       "       0.        , 0.        , 0.        , 0.        , 0.        ,\n",
       "       0.        , 0.        , 0.        , 0.        , 0.        ,\n",
       "       0.        , 0.        , 0.        , 0.        , 0.        ,\n",
       "       0.        , 0.        , 0.        , 0.3046875 , 0.99609375,\n",
       "       0.9921875 , 0.9921875 , 0.2578125 , 0.        , 0.        ,\n",
       "       0.        , 0.        , 0.        , 0.        , 0.        ,\n",
       "       0.        , 0.        , 0.        , 0.        , 0.        ,\n",
       "       0.        , 0.        , 0.        , 0.        , 0.        ,\n",
       "       0.        , 0.        , 0.        , 0.        , 0.        ,\n",
       "       0.        , 0.81640625, 0.9921875 , 0.9921875 , 0.53515625,\n",
       "       0.        , 0.        , 0.        , 0.        , 0.        ,\n",
       "       0.        , 0.        , 0.        , 0.        , 0.        ,\n",
       "       0.        , 0.        , 0.        , 0.        , 0.        ,\n",
       "       0.        , 0.        , 0.        , 0.        , 0.        ,\n",
       "       0.        , 0.        , 0.        , 0.        , 0.88671875,\n",
       "       0.99609375, 0.91015625, 0.09765625, 0.        , 0.        ,\n",
       "       0.        , 0.        , 0.        , 0.        , 0.        ,\n",
       "       0.        , 0.        , 0.        , 0.        , 0.        ,\n",
       "       0.        , 0.        , 0.        , 0.        , 0.        ,\n",
       "       0.        , 0.        , 0.        , 0.        , 0.        ,\n",
       "       0.        , 0.        , 0.44140625, 0.99609375, 0.421875  ,\n",
       "       0.        , 0.        , 0.        , 0.        , 0.        ,\n",
       "       0.        , 0.        , 0.        , 0.        , 0.        ,\n",
       "       0.        , 0.        , 0.        , 0.        , 0.        ,\n",
       "       0.        , 0.        , 0.        , 0.        , 0.        ,\n",
       "       0.        , 0.        , 0.        , 0.        , 0.        ,\n",
       "       0.        , 0.        , 0.        , 0.        , 0.        ,\n",
       "       0.        , 0.        , 0.        , 0.        , 0.        ,\n",
       "       0.        , 0.        , 0.        , 0.        , 0.        ,\n",
       "       0.        , 0.        , 0.        , 0.        ], dtype=float32), mnist_test_labels=array([9]))"
      ]
     },
     "execution_count": 42,
     "metadata": {},
     "output_type": "execute_result"
    }
   ],
   "source": [
    "dataset[9]"
   ]
  },
  {
   "cell_type": "code",
   "execution_count": 44,
   "metadata": {},
   "outputs": [],
   "source": [
    "train_loader = DataLoader(dataset,\n",
    "                          batch_size=32)"
   ]
  },
  {
   "cell_type": "code",
   "execution_count": null,
   "metadata": {},
   "outputs": [
    {
     "name": "stdout",
     "output_type": "stream",
     "text": [
      "[EPOCH 0/10] Train Loss: 0.06814072782266706\n",
      "Test Loss: 0.0918073209914596 Accuracy: 0.9716453674121406\n",
      "[EPOCH 1/10] Train Loss: 0.06410053524654061\n",
      "Test Loss: 0.08948530110020261 Accuracy: 0.9723442492012779\n",
      "[EPOCH 2/10] Train Loss: 0.06032143013524422\n",
      "Test Loss: 0.08731502429254877 Accuracy: 0.9728434504792333\n",
      "[EPOCH 3/10] Train Loss: 0.056838085246138315\n",
      "Test Loss: 0.08546964528010087 Accuracy: 0.9732428115015974\n",
      "[EPOCH 4/10] Train Loss: 0.05359196147025799\n",
      "Test Loss: 0.08372617617901117 Accuracy: 0.9734424920127795\n",
      "[EPOCH 5/10] Train Loss: 0.050556435092588885\n",
      "Test Loss: 0.08219187844603415 Accuracy: 0.9737420127795527\n",
      "[EPOCH 6/10] Train Loss: 0.04774323870436546\n",
      "Test Loss: 0.08069135308440123 Accuracy: 0.9740415335463258\n",
      "[EPOCH 7/10] Train Loss: 0.04511407855756626\n",
      "Test Loss: 0.07942048499828201 Accuracy: 0.974341054313099\n",
      "[EPOCH 8/10] Train Loss: 0.04266405477471857\n",
      "Test Loss: 0.07819276037175929 Accuracy: 0.9745407348242812\n"
     ]
    }
   ],
   "source": [
    "criterion = nn.CrossEntropyLoss()\n",
    "optimizer = optim.SGD(model.parameters(), lr=0.01)\n",
    "epochs = 10\n",
    "\n",
    "for epoch in range(epochs):\n",
    "    total_loss_test = 0\n",
    "    total_loss_train = 0\n",
    "    accuracy = 0\n",
    "    for img, label in train_loader:\n",
    "        label = label.view(-1)\n",
    "        optimizer.zero_grad()\n",
    "\n",
    "        out = model(img)\n",
    "        loss = criterion(out, label)\n",
    "        loss.backward()\n",
    "        optimizer.step()\n",
    "        total_loss_train += loss.item()\n",
    "        \n",
    "    for img, label in test_loader:\n",
    "        label = label.view(-1)\n",
    "        with torch.no_grad():\n",
    "            # Train Loss\n",
    "            out = model(img)\n",
    "            loss = criterion(out, label)\n",
    "            total_loss_test += loss.item()\n",
    "            \n",
    "            # Accuracy\n",
    "            _, indx = out.topk(1)\n",
    "            correct = (indx.view(-1) == label).sum().item()\n",
    "            acc = correct/batch_size\n",
    "            accuracy += acc\n",
    "    \n",
    "    # Print losses for each epoch\n",
    "    train_loss = total_loss_train/len(train_loader)\n",
    "    test_loss = total_loss_test/len(test_loader)\n",
    "    accuracy = accuracy/len(test_loader)\n",
    "    print(f'[EPOCH {epoch}/{epochs}] Train Loss: {train_loss}')\n",
    "    print(f'Test Loss: {test_loss} Accuracy: {accuracy}')"
   ]
  },
  {
   "cell_type": "code",
   "execution_count": null,
   "metadata": {},
   "outputs": [],
   "source": [
    "for img,"
   ]
  }
 ],
 "metadata": {
  "kernelspec": {
   "display_name": "Python 3",
   "language": "python",
   "name": "python3"
  },
  "language_info": {
   "codemirror_mode": {
    "name": "ipython",
    "version": 3
   },
   "file_extension": ".py",
   "mimetype": "text/x-python",
   "name": "python",
   "nbconvert_exporter": "python",
   "pygments_lexer": "ipython3",
   "version": "3.7.4"
  }
 },
 "nbformat": 4,
 "nbformat_minor": 2
}
